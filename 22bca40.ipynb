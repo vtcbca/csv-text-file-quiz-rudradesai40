{
 "cells": [
  {
   "cell_type": "code",
   "execution_count": 1,
   "id": "84d51f65",
   "metadata": {},
   "outputs": [],
   "source": [
    "import csv"
   ]
  },
  {
   "cell_type": "code",
   "execution_count": 8,
   "id": "07268fc5",
   "metadata": {},
   "outputs": [],
   "source": [
    "def getstaf_record():\n",
    "    sid=int(input(\"enter staf id\"))\n",
    "    sname=input(\"enter staf name\")\n",
    "    salary=int(input(\"enter salaty\"))\n",
    "    return[sid,sname,salary]"
   ]
  },
  {
   "cell_type": "raw",
   "id": "c9fa1dd1",
   "metadata": {},
   "source": []
  },
  {
   "cell_type": "code",
   "execution_count": 9,
   "id": "4f44bbbc",
   "metadata": {},
   "outputs": [],
   "source": [
    "record=[\n",
    "        [1,'rudra',5000],\n",
    "        [2,'om',4000],\n",
    "        [3,'kevin',5400],\n",
    "        [4,'dhyey',5600],\n",
    "        [5,'sai',4200]\n",
    "]\n"
   ]
  },
  {
   "cell_type": "code",
   "execution_count": 13,
   "id": "120e432a",
   "metadata": {},
   "outputs": [],
   "source": [
    "with open(\"staf_record.csv\",\"w\",newline= '') as file:\n",
    "    writer=csv.writer(file)\n",
    "    writer.writerow([\"sid\",\"sname\",\"salary\"])\n",
    "    writer.writerow(record)\n",
    "    "
   ]
  },
  {
   "cell_type": "code",
   "execution_count": null,
   "id": "5d51e792",
   "metadata": {},
   "outputs": [],
   "source": [
    "cout_s = 0\n",
    "with open('staf_record','r') as file:\n",
    "    reader = csv.dictreader(file)"
   ]
  }
 ],
 "metadata": {
  "kernelspec": {
   "display_name": "Python 3 (ipykernel)",
   "language": "python",
   "name": "python3"
  },
  "language_info": {
   "codemirror_mode": {
    "name": "ipython",
    "version": 3
   },
   "file_extension": ".py",
   "mimetype": "text/x-python",
   "name": "python",
   "nbconvert_exporter": "python",
   "pygments_lexer": "ipython3",
   "version": "3.11.4"
  }
 },
 "nbformat": 4,
 "nbformat_minor": 5
}
